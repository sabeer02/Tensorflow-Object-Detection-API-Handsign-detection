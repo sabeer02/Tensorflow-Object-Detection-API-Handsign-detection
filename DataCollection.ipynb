{
  "cells": [
    {
      "cell_type": "code",
      "execution_count": null,
      "id": "991e12e3",
      "metadata": {
        "id": "991e12e3"
      },
      "outputs": [],
      "source": [
        "import cv2 #opencv\n",
        "import os\n",
        "import time\n",
        "import uuid"
      ]
    },
    {
      "cell_type": "code",
      "execution_count": null,
      "id": "5aae9089",
      "metadata": {
        "id": "5aae9089"
      },
      "outputs": [],
      "source": [
        "IMAGES_PATH = 'Tensorflow/workspace/images/collectedimages'"
      ]
    },
    {
      "cell_type": "code",
      "execution_count": null,
      "id": "5b1d9f38",
      "metadata": {
        "id": "5b1d9f38"
      },
      "outputs": [],
      "source": [
        "labels = ['hello', 'thanks' ,'yes','no','iloveyou']\n",
        "number_imgs = 15"
      ]
    },
    {
      "cell_type": "code",
      "execution_count": null,
      "id": "a7131b9c",
      "metadata": {
        "id": "a7131b9c",
        "outputId": "0c61a78e-96fd-4c81-9b47-e43fb390c6c8"
      },
      "outputs": [
        {
          "name": "stderr",
          "output_type": "stream",
          "text": [
            "A subdirectory or file Tensorflow\\workspace\\images\\collectedimages\\hello already exists.\n"
          ]
        },
        {
          "name": "stdout",
          "output_type": "stream",
          "text": [
            "Collecting images for hello\n",
            "Collecting images for thanks\n",
            "Collecting images for yes\n",
            "Collecting images for no\n",
            "Collecting images for iloveyou\n"
          ]
        }
      ],
      "source": [
        "for label in labels:\n",
        "    !mkdir {'Tensorflow\\workspace\\images\\collectedimages\\\\'+label}\n",
        "    cap = cv2.VideoCapture(0)\n",
        "    print('Collecting images for {}'.format(label))\n",
        "    time.sleep(5)\n",
        "    for imgnum in range(number_imgs):\n",
        "        ret, frame = cap.read()\n",
        "        imgname = os.path.join(IMAGES_PATH, label, label+'.'+'{}.jpg'.format(str(uuid.uuid1())))\n",
        "        cv2.imwrite(imgname, frame)\n",
        "        cv2.imshow('frame',frame)\n",
        "        time.sleep(2)\n",
        "\n",
        "        if cv2.waitKey(1) & 0xFF == ord('q'):\n",
        "            break\n",
        "    cap.release()"
      ]
    },
    {
      "cell_type": "code",
      "execution_count": null,
      "id": "2eab75e8",
      "metadata": {
        "id": "2eab75e8"
      },
      "outputs": [],
      "source": []
    }
  ],
  "metadata": {
    "kernelspec": {
      "display_name": "Python 3 (ipykernel)",
      "language": "python",
      "name": "python3"
    },
    "language_info": {
      "codemirror_mode": {
        "name": "ipython",
        "version": 3
      },
      "file_extension": ".py",
      "mimetype": "text/x-python",
      "name": "python",
      "nbconvert_exporter": "python",
      "pygments_lexer": "ipython3",
      "version": "3.10.9"
    },
    "colab": {
      "provenance": []
    }
  },
  "nbformat": 4,
  "nbformat_minor": 5
}